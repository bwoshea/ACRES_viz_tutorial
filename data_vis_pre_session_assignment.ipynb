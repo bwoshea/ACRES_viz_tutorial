{
 "cells": [
  {
   "cell_type": "markdown",
   "metadata": {},
   "source": [
    "# ACRES data viz pre-session assignment: using Pandas\n",
    "\n",
    "## Goals for this part of this assignment\n",
    "\n",
    "* Use Pandas to select and view subsets of data \n",
    "* Use Pandas and matplotlib to make plots\n",
    "\n",
    "## Useful references\n",
    "\n",
    "* The [Pandas website](http://pandas.pydata.org/)\n",
    "* [10-minute Panda Tutorial](http://pandas.pydata.org/pandas-docs/stable/getting_started/10min.html)\n",
    "\n",
    "## Instructions\n",
    "\n",
    "[Pandas](https://pandas.pydata.org/) is a great Python tool for doing data analysis and visualization.  It is based on numpy arrays and matplotlib, and makes it very easy to manipulate datasets by binning, filtering, and smoothing the data.  In particular, its profound advantage over working with standard numpy arrays is that it can work easily with strings and text, whereas numpy arrays on their own are not very good for that.\n",
    "\n",
    "Please watch the video below, work through the [10-minute Panda Tutorial](http://pandas.pydata.org/pandas-docs/stable/getting_started/10min.html), and then read the text below and work through examples with the given dataset.  We'll be using Pandas extensively in our session, so it's worth your time to experiment with this!"
   ]
  },
  {
   "cell_type": "code",
   "execution_count": null,
   "metadata": {
    "collapsed": true,
    "jupyter": {
     "outputs_hidden": true
    }
   },
   "outputs": [],
   "source": [
    "from IPython.display import YouTubeVideo  \n",
    "\n",
    "# Video on the Pandas module\n",
    "# Make sure to watch it in full-screen mode!\n",
    "\n",
    "YouTubeVideo(\"A0InxIMAvlU\",width=640,height=360)  # pandas"
   ]
  },
  {
   "cell_type": "code",
   "execution_count": null,
   "metadata": {
    "collapsed": true,
    "jupyter": {
     "outputs_hidden": true
    }
   },
   "outputs": [],
   "source": [
    "# make plots appear in the notebook (probably not necessary any more)\n",
    "%matplotlib inline\n",
    "\n",
    "# import the pandas module\n",
    "import pandas\n",
    "\n",
    "# reads in our dataset and puts it into a data frame\n",
    "congress = pandas.read_csv(\"statistical/congress-terms.csv\")"
   ]
  },
  {
   "cell_type": "markdown",
   "metadata": {},
   "source": [
    "**In the cell below,** and adding additional cells if necessary, try using the various commands described in the video including head(), tail(), describe(), and making simple plots.  Note that you can also use the syntax:\n",
    "\n",
    "`congress.columns`\n",
    "\n",
    "to print out a list of all of the columns in the Pandas data frame.  This is useful if there are lots and lots of columns.  Try it here:"
   ]
  },
  {
   "cell_type": "code",
   "execution_count": null,
   "metadata": {
    "collapsed": true,
    "jupyter": {
     "outputs_hidden": true
    }
   },
   "outputs": [],
   "source": [
    "# put your code here!\n",
    "\n",
    "\n"
   ]
  },
  {
   "cell_type": "markdown",
   "metadata": {},
   "source": [
    "# Creating subsets of data\n",
    "\n",
    "It's often useful to get some subset of data in a Pandas data frame.  Typical situations include:\n",
    "\n",
    "* you want all rows in the data frame where a particular quantity is above or below a certain value\n",
    "* you want a range of rows (rows 1-10, for example)\n",
    "* you only want one or two of the columns\n",
    "\n",
    "In general you then use this subset of the data for further analysis or visualization.  \n",
    "\n",
    "In the following cells, we're going to walk you through a variety of ways of getting the data you want out of a Pandas data frame.  Note that a variety of methods for selecting data in Pandas can be [found here](http://pandas.pydata.org/pandas-docs/stable/indexing.html#indexing) in the Pandas documentation.\n",
    "\n",
    "You can access individual rows by 'slicing' the data.  You can get an individual column in the data frame by using the full name of the column, like this:\n",
    "\n",
    "    congress['state']\n",
    "\n",
    "And then you can get individual rows in a variety of ways.  If you know the row number (they start at zero!) then you can get to it by using an index selector called `loc`, which can be used in several ways (an 'index' is a number representing a row or column in the data table).  The two that you may want to use in class are getting all of the information in a single row, for example in the second row:\n",
    "\n",
    "    congress.loc[2]\n",
    "    \n",
    "Remember that Pandas starts counting with a zero, so `loc[2]` is really the index for the third value.  You can also specify a range of rows using the syntax `loc[first:last]`.  To get rows 2-5, you would say:\n",
    "\n",
    "    congress.loc[2:5]\n",
    "\n",
    "You can also get a single column for an individual row by adding a second index that has the column name.  For exmaple:\n",
    "\n",
    "    congress.loc[2,'age']\n",
    "    \n",
    "returns the age for row 2.  You can also combine the things we've shown above to get a range of rows for a single column:\n",
    "\n",
    "    congress.loc[2:5,'age']\n",
    "\n",
    "**Try it below!**"
   ]
  },
  {
   "cell_type": "code",
   "execution_count": null,
   "metadata": {
    "collapsed": true,
    "jupyter": {
     "outputs_hidden": true
    }
   },
   "outputs": [],
   "source": [
    "# put your code here!\n",
    "\n",
    "\n"
   ]
  },
  {
   "cell_type": "markdown",
   "metadata": {},
   "source": [
    "# Masking data (choosing subsets based on values)\n",
    "\n",
    "A different way of selecting information in a data frame is based on the data values.  You can create a \"mask\" of true and false values (which we'll learn more about soon!) by doing simple greater than/less than/equal to tests. For example, if you want to find out which rows of the column \"age\" have values greater than 50, you'd say:\n",
    "\n",
    "    congress['age'] > 50\n",
    "\n",
    "Which will return a list of true and/or false values.  You can either store this in its own variable:\n",
    "\n",
    "    mask = congress['age'] > 50\n",
    "    \n",
    "and then you can use it to actually *get* a data frame containing all of the values that are greater than 50.  For example,\n",
    "\n",
    "    congress[mask]\n",
    "   \n",
    "will return a data frame that contains only the rows where  \"age\" is greater than 50.  Note that the line above is equivalent to saying\n",
    "\n",
    "    congress[congress['age'] > 50]\n",
    "\n",
    "but this second way of saying it is harder to read.  Note that you can also use \"less than\" (<) or \"equal to\" (==) to do this sort of test, and you can also do it on strings as well as numbers!\n",
    "\n",
    "Because the returned quantity is a data frame, you can then treat it the same way you did the original frame.  So, you can also choose to get just one column of the masked data, say the \"party\", by saying:\n",
    "\n",
    "    congess[mask]['party']\n",
    "    \n",
    " Which is the same thing as saying:\n",
    " \n",
    "     new_data_frame = congress[mask]\n",
    "     new_data_frame['party']\n",
    "     \n",
    "     \n",
    "Note that you can create masks based on more complex boolean operations, just like you can in plain Python. You can also select random subsets of data, ranges of data, and so on.  Consult [the documentation](https://pandas.pydata.org/pandas-docs/stable/indexing.html) for more information.\n",
    "\n",
    "**Try some of these things below!**  In particular, try to get the age distribution of congresspeople from your home state usings its two-letter alias.  Make a histogram with a non-standard number of bins."
   ]
  },
  {
   "cell_type": "code",
   "execution_count": null,
   "metadata": {
    "collapsed": true,
    "jupyter": {
     "outputs_hidden": true
    }
   },
   "outputs": [],
   "source": [
    "# put your code here!\n",
    "\n",
    "\n"
   ]
  },
  {
   "cell_type": "markdown",
   "metadata": {},
   "source": [
    "Finally, you can select records in a data table based on a set of values in one of the columns using the `isin()` method.  (Note: read that as \"is in\".  So, you can create a mask for Michigan and Illinois by giving it a list with the strings containing their state codes, like so:\n",
    "\n",
    "    congress['state'].isin(['MI','IL'])\n",
    "    \n",
    "or you can use a list containing many strings or numbers:\n",
    "\n",
    "    congress['age'].isin([50,51,52,53])\n",
    "    \n",
    "and then create a data frame with just those values:\n",
    "\n",
    "    mask = congress['state'].isin(['MI','IL'])\n",
    "    michigan_data = congress[mask]\n",
    "    \n",
    "Note that you can also create the list separately and then create the mask using that list.  For example:\n",
    "\n",
    "    list_of_states = ['MI','IL']\n",
    "    mask = congress['state'].isin(list_of_states)\n",
    "    some_states = congress[mask]\n",
    "    \n",
    "is equivalent to the block of code above it.  Give it a try - make sure to type `some_samples` at the end of the cell to see what it outputs.  Also, remember that `some_samples` is a data frame, and you can treat it the same way you treated any other data frame!"
   ]
  },
  {
   "cell_type": "code",
   "execution_count": null,
   "metadata": {
    "collapsed": true,
    "jupyter": {
     "outputs_hidden": true
    }
   },
   "outputs": [],
   "source": [
    "# put your code here!\n",
    "\n",
    "\n"
   ]
  },
  {
   "cell_type": "markdown",
   "metadata": {},
   "source": [
    "# Plotting a Pandas data frame\n",
    "\n",
    "Pandas has several built-in methods for creating plots, as [described here](http://pandas.pydata.org/pandas-docs/stable/visualization.html).  You can also use the matplotplib [pyplot](http://matplotlib.org/api/pyplot_api.html) methods to create plots using slices of pandas data frames.  \n",
    "\n",
    "The most basic type of plot you can make with Pandas is a scatter plot, where you explicitly tell Pandas which quantities are the x and y axes.\n",
    "\n",
    "    congress.plot.scatter(x='congress',y='age')\n",
    "    \n",
    "This creates points of fixed size.  You can also color each point by using a third quantity in the data frame, or even re-use one of the two you're using for plotting:\n",
    "\n",
    "    congress.plot.scatter(x='congress',y='age', \n",
    "                            c = congress['age'])\n",
    "                            \n",
    "Note that the syntax is somewhat different here!  You have to use a data frame or numpy array for the color of the points, because it needs a list of quantities to use for coloring.  You need to be careful about this, as it must be a number!  (Note that if you want to use text-based data, you can do so, you just need to create a new array and feed it in.)  You can also instruct it to use different color maps with the `cmap` argument.\n",
    "  \n",
    "You can also generate histograms of individual quantities using slices:\n",
    "\n",
    "    congress['age'].plot.hist()\n",
    "    \n",
    "Note that Pandas actually uses matplotlib and pyplot, so it's possible to use all of the matplotlib histogram functionality that is shown in the [pyplot histogram documentation](http://matplotlib.org/api/pyplot_api.html#matplotlib.pyplot.hist).  So, for example, you can change the number of bins, the upper and lower range of the bins, and many other things.  So, I'm going to make a cumulative histogram with 40 bins:\n",
    "\n",
    "    congress['age'].plot.hist(bins=40, cumulative=True)\n",
    "    \n",
    "Give it a try!"
   ]
  },
  {
   "cell_type": "code",
   "execution_count": null,
   "metadata": {
    "collapsed": true,
    "jupyter": {
     "outputs_hidden": true
    }
   },
   "outputs": [],
   "source": [
    "# put your code here!\n",
    "\n",
    "\n"
   ]
  },
  {
   "cell_type": "markdown",
   "metadata": {},
   "source": [
    "Finally, we can use matplotlib directly to make plots if we want.  I can make the same histogram as above by typing:\n",
    "\n",
    "    plt.hist(congress['age'])\n",
    "    \n",
    "Or a scatter plot by typing:\n",
    "\n",
    "    plt.scatter(x=congress['congress'],y=congress['age'])\n",
    "    \n",
    "Note that if you want a subset of the data, you have to make sure to explicitly use the sliced data frame when you use pyplot directly - you can't always do it within the plot method call!\n",
    "\n",
    "You can also make many of the other plots you see in the [matplotlib gallery](http://matplotlib.org/gallery.html).  One advantage of using pyplot directly is that you have more control over the details of the plot (axis ticks and labels, etc.); a disadvantage is that you have to be much more explicit about calling the Pandas data frame.\n",
    "\n",
    "First, try using the standard scatter plot and histogram, but by using pyplot instead of the Pandas routines:"
   ]
  },
  {
   "cell_type": "code",
   "execution_count": null,
   "metadata": {
    "collapsed": true,
    "jupyter": {
     "outputs_hidden": true
    }
   },
   "outputs": [],
   "source": [
    "import matplotlib.pyplot as plt\n",
    "\n",
    "# Put your code here!\n",
    "\n"
   ]
  },
  {
   "cell_type": "markdown",
   "metadata": {},
   "source": [
    "Now, look in the [matplotlib gallery](http://matplotlib.org/gallery.html) and try to figure out a new type of plot to make with the Congress data.  Add that plot below!"
   ]
  },
  {
   "cell_type": "code",
   "execution_count": null,
   "metadata": {
    "collapsed": true,
    "jupyter": {
     "outputs_hidden": true
    }
   },
   "outputs": [],
   "source": [
    "# put your code here!\n",
    "\n",
    "\n"
   ]
  },
  {
   "cell_type": "markdown",
   "metadata": {},
   "source": [
    "# Extracting data into Numpy arrays\n",
    "\n",
    "It is also possible to extract one or more columns of a Pandas dataframe into a Numpy `ndarray` (the standard array type in numpy).  You can do this using the Pands [to_numpy()](https://pandas.pydata.org/docs/reference/api/pandas.DataFrame.to_numpy.html) method, and can give it one or more columns.  For example, this extracts just the ages:\n",
    "\n",
    "    ages = congress[\"age\"].to_numpy()\n",
    "\n",
    "And if you look at the type of the returned object, it should be a numpy array:\n",
    "\n",
    "    type(ages)\n",
    "    \n",
    "Try this below!"
   ]
  },
  {
   "cell_type": "code",
   "execution_count": null,
   "metadata": {
    "collapsed": true,
    "jupyter": {
     "outputs_hidden": true
    }
   },
   "outputs": [],
   "source": [
    "# put your code here!\n",
    "\n",
    "\n"
   ]
  },
  {
   "cell_type": "markdown",
   "metadata": {},
   "source": [
    "## Congratulations, you're done!\n",
    "\n",
    "You don't need to submit this anywhere - just hang onto it for reference in class!"
   ]
  }
 ],
 "metadata": {
  "kernelspec": {
   "display_name": "Python 3 (ipykernel)",
   "language": "python",
   "name": "python3"
  },
  "language_info": {
   "codemirror_mode": {
    "name": "ipython",
    "version": 3
   },
   "file_extension": ".py",
   "mimetype": "text/x-python",
   "name": "python",
   "nbconvert_exporter": "python",
   "pygments_lexer": "ipython3",
   "version": "3.9.13"
  }
 },
 "nbformat": 4,
 "nbformat_minor": 4
}
